{
 "cells": [
  {
   "cell_type": "markdown",
   "id": "46a7431d9d8b5200",
   "metadata": {
    "collapsed": false
   },
   "source": [
    "# Introduction to Programming and Python\n",
    "## Lists in Python\n",
    "\n"
   ]
  },
  {
   "cell_type": "markdown",
   "id": "ce92fcbe62cf0871",
   "metadata": {
    "collapsed": false,
    "jp-MarkdownHeadingCollapsed": true
   },
   "source": [
    "### 1. Introduction to Lists"
   ]
  },
  {
   "cell_type": "markdown",
   "id": "a7f17a52903aabb5",
   "metadata": {
    "collapsed": false
   },
   "source": [
    "#### 1.1 Definition and Access\n",
    "* Lists are one of the most powerful tools in Python.\n",
    "* They are meant to store a series of elements.\n",
    "* These elements are accessible by using indexes.\n",
    "* These elements can be of any type such as integers, floats, strings, or other lists.\n",
    "* We can also concatenate lists, insert lists inside lists, etc.\n",
    "* In Python, lists are defined between brackets and their elements are separated by commas.\n"
   ]
  },
  {
   "cell_type": "code",
   "execution_count": 3,
   "id": "9614393a14f2ad7d",
   "metadata": {
    "ExecuteTime": {
     "end_time": "2024-04-11T13:41:45.123173Z",
     "start_time": "2024-04-11T13:41:41.431034Z"
    },
    "collapsed": false
   },
   "outputs": [
    {
     "name": "stdout",
     "output_type": "stream",
     "text": [
      "Your absolute number is: 23.0\n"
     ]
    }
   ],
   "source": [
    "[1, 2, 3]"
   ]
  },
  {
   "cell_type": "code",
   "execution_count": null,
   "outputs": [],
   "source": [
    "# a is a variable that is a list of integers\n",
    "a = [1, 2, 3]"
   ],
   "metadata": {
    "collapsed": false
   },
   "id": "3600382a513ded77"
  },
  {
   "cell_type": "code",
   "execution_count": null,
   "outputs": [],
   "source": [
    "print(a)"
   ],
   "metadata": {
    "collapsed": false
   },
   "id": "28f8022bcdaf478d"
  },
  {
   "cell_type": "code",
   "execution_count": 1,
   "outputs": [
    {
     "name": "stdout",
     "output_type": "stream",
     "text": [
      "['gruyere', 'manchego', 'camembert']\n"
     ]
    }
   ],
   "source": [
    "# Here we have a cheese list (technically made of strings)\n",
    "cheeses = ['gruyere', 'manchego', 'camembert']\n",
    "print(cheeses)"
   ],
   "metadata": {
    "collapsed": false,
    "ExecuteTime": {
     "end_time": "2024-05-27T15:30:26.406551Z",
     "start_time": "2024-05-27T15:30:26.398122Z"
    }
   },
   "id": "5593be279308046c"
  },
  {
   "cell_type": "markdown",
   "id": "ee99ef132a3b28bd",
   "metadata": {
    "collapsed": false
   },
   "source": [
    "#### 1.2. Indexes\n",
    "# We can access individual elements by using numerical indexes.\n",
    "# **But the **first element is 0 (NOT 1)**"
   ]
  },
  {
   "cell_type": "code",
   "execution_count": 5,
   "outputs": [
    {
     "name": "stdout",
     "output_type": "stream",
     "text": [
      "['gruyere', 'manchego', 'camembert']\n",
      "manchego\n",
      "camembert\n",
      "['gruyere', 'manchego']\n"
     ]
    }
   ],
   "source": [
    "print(cheeses)\n",
    "print(cheeses[1])\n",
    "print(cheeses[-1])\n",
    "print(cheeses[-3:-1])"
   ],
   "metadata": {
    "collapsed": false,
    "ExecuteTime": {
     "end_time": "2024-05-27T15:31:13.199969Z",
     "start_time": "2024-05-27T15:31:13.192122Z"
    }
   },
   "id": "1287f2bdc88fe1cd"
  },
  {
   "cell_type": "markdown",
   "source": [
    "#### 1.2. Modify list values\n",
    "We can modify any element of a list"
   ],
   "metadata": {
    "collapsed": false
   },
   "id": "5f191bfcc5c51891"
  },
  {
   "cell_type": "code",
   "execution_count": 6,
   "outputs": [
    {
     "name": "stdout",
     "output_type": "stream",
     "text": [
      "['gruyere', 'manchego', 'havarti']\n"
     ]
    }
   ],
   "source": [
    "cheeses[2] = \"havarti\"  # Modify an element\n",
    "print(cheeses)"
   ],
   "metadata": {
    "collapsed": false,
    "ExecuteTime": {
     "end_time": "2024-05-27T15:32:13.045377Z",
     "start_time": "2024-05-27T15:32:13.036800Z"
    }
   },
   "id": "89a4adb19a285c26"
  },
  {
   "cell_type": "markdown",
   "source": [
    "#### 1.3. Combine different Types\n",
    "Lists can contain values with different types. "
   ],
   "metadata": {
    "collapsed": false
   },
   "id": "f981bad881723dda"
  },
  {
   "cell_type": "code",
   "execution_count": null,
   "outputs": [],
   "source": [
    "# Example:\n",
    "miscellaneous = [234, 'potato', 3.5, [1, 2, 3]]\n",
    "print(miscellaneous)  # Output: [234, 'potato', 3.5, [1, 2, 3]]\n"
   ],
   "metadata": {
    "collapsed": false
   },
   "id": "760d35c4dc58e5f3"
  },
  {
   "cell_type": "markdown",
   "source": [
    "#### 1.2 Operations with Lists\n",
    "Concatenation and Repetition"
   ],
   "metadata": {
    "collapsed": false
   },
   "id": "325a2afbed20c24e"
  },
  {
   "cell_type": "code",
   "execution_count": null,
   "outputs": [],
   "source": [
    "# Example:\n",
    "a = [1, 2, 3]\n",
    "b = [4, 5]\n",
    "c = a + b\n",
    "print(c)  \n",
    "\n",
    "d = a * 3\n",
    "print(d)  "
   ],
   "metadata": {
    "collapsed": false
   },
   "id": "d9be650c9d11e7a"
  },
  {
   "cell_type": "markdown",
   "source": [
    "#### 1.3 List Length and Comparison\n",
    "len() function can be used to know the length of a list. Since a string is also a list of characters it can be also used to calculate the length of a string but never to calculate length of atomic types. "
   ],
   "metadata": {
    "collapsed": false
   },
   "id": "77219b7345cf7d81"
  },
  {
   "cell_type": "code",
   "execution_count": null,
   "outputs": [],
   "source": [
    "# Example:\n",
    "a = [10, 20, 30]\n",
    "print(len(a))  # Output: 3"
   ],
   "metadata": {
    "collapsed": false
   },
   "id": "ba8cd964b228ad04"
  },
  {
   "cell_type": "code",
   "execution_count": null,
   "outputs": [],
   "source": [
    "a = True\n",
    "b = 20\n",
    "print(len(a))\n",
    "print(len(b))"
   ],
   "metadata": {
    "collapsed": false
   },
   "id": "e0f6a594b4001d31"
  },
  {
   "cell_type": "code",
   "execution_count": null,
   "outputs": [],
   "source": [
    "# Comparing lists Example:\n",
    "a = [1, 2, 3, 4, 5]\n",
    "b = [1, 2, 4]\n",
    "print(a > b)  # Output: True (based on lexicographical comparison)"
   ],
   "metadata": {
    "collapsed": false
   },
   "id": "440c382fdd6d55f8"
  },
  {
   "cell_type": "code",
   "execution_count": 8,
   "outputs": [
    {
     "name": "stdout",
     "output_type": "stream",
     "text": [
      "False\n"
     ]
    }
   ],
   "source": [
    "a = [1, 2, 3]\n",
    "b = [1, 2, 3]\n",
    "print(a is b)\n",
    "print(a == b)"
   ],
   "metadata": {
    "collapsed": false,
    "ExecuteTime": {
     "end_time": "2024-05-27T15:41:14.833414Z",
     "start_time": "2024-05-27T15:41:14.823554Z"
    }
   },
   "id": "adcfefa09536bf91"
  },
  {
   "cell_type": "markdown",
   "source": [
    "#### 1.4 List Creation and Manipulation\n"
   ],
   "metadata": {
    "collapsed": false
   },
   "id": "b3e750f7dac152ee"
  }
 ],
 "metadata": {
  "kernelspec": {
   "display_name": "Python 3 (ipykernel)",
   "language": "python",
   "name": "python3"
  },
  "language_info": {
   "codemirror_mode": {
    "name": "ipython",
    "version": 3
   },
   "file_extension": ".py",
   "mimetype": "text/x-python",
   "name": "python",
   "nbconvert_exporter": "python",
   "pygments_lexer": "ipython3",
   "version": "3.9.6"
  }
 },
 "nbformat": 4,
 "nbformat_minor": 5
}
