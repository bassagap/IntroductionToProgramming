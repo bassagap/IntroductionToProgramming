{
 "cells": [
  {
   "cell_type": "markdown",
   "id": "46a7431d9d8b5200",
   "metadata": {
    "collapsed": false
   },
   "source": [
    "# Introduction to Programming and Python\n",
    "## Lists in Python\n",
    "\n"
   ]
  },
  {
   "cell_type": "markdown",
   "id": "ce92fcbe62cf0871",
   "metadata": {
    "collapsed": false,
    "jp-MarkdownHeadingCollapsed": true
   },
   "source": [
    "### 1. Introduction to Lists"
   ]
  },
  {
   "cell_type": "markdown",
   "id": "a7f17a52903aabb5",
   "metadata": {
    "collapsed": false
   },
   "source": [
    "#### 1.1 Definition and Access\n",
    "* Lists are one of the most powerful tools in Python.\n",
    "* They are meant to store a series of elements.\n",
    "* These elements are accessible by using indexes.\n",
    "* These elements can be of any type such as integers, floats, strings, or other lists.\n",
    "* We can also concatenate lists, insert lists inside lists, etc.\n",
    "* In Python, lists are defined between brackets and their elements are separated by commas.\n"
   ]
  },
  {
   "cell_type": "code",
   "execution_count": 3,
   "id": "9614393a14f2ad7d",
   "metadata": {
    "ExecuteTime": {
     "end_time": "2024-04-11T13:41:45.123173Z",
     "start_time": "2024-04-11T13:41:41.431034Z"
    },
    "collapsed": false
   },
   "outputs": [
    {
     "name": "stdout",
     "output_type": "stream",
     "text": [
      "Your absolute number is: 23.0\n"
     ]
    }
   ],
   "source": [
    "[1, 2, 3]"
   ]
  },
  {
   "cell_type": "code",
   "execution_count": null,
   "outputs": [],
   "source": [
    "# a is a variable that is a list of integers\n",
    "a = [1, 2, 3]"
   ],
   "metadata": {
    "collapsed": false
   },
   "id": "3600382a513ded77"
  },
  {
   "cell_type": "code",
   "execution_count": null,
   "outputs": [],
   "source": [
    "print(a)"
   ],
   "metadata": {
    "collapsed": false
   },
   "id": "28f8022bcdaf478d"
  },
  {
   "cell_type": "code",
   "execution_count": 1,
   "outputs": [
    {
     "name": "stdout",
     "output_type": "stream",
     "text": [
      "['gruyere', 'manchego', 'camembert']\n"
     ]
    }
   ],
   "source": [
    "# Here we have a cheese list (technically made of strings)\n",
    "cheeses = ['gruyere', 'manchego', 'camembert']\n",
    "print(cheeses)"
   ],
   "metadata": {
    "collapsed": false,
    "ExecuteTime": {
     "end_time": "2024-05-27T15:30:26.406551Z",
     "start_time": "2024-05-27T15:30:26.398122Z"
    }
   },
   "id": "5593be279308046c"
  },
  {
   "cell_type": "markdown",
   "id": "ee99ef132a3b28bd",
   "metadata": {
    "collapsed": false
   },
   "source": [
    "#### 1.2. Indexes\n",
    "# We can access individual elements by using numerical indexes.\n",
    "# **But the **first element is 0 (NOT 1)**"
   ]
  },
  {
   "cell_type": "code",
   "execution_count": 5,
   "outputs": [
    {
     "name": "stdout",
     "output_type": "stream",
     "text": [
      "['gruyere', 'manchego', 'camembert']\n",
      "manchego\n",
      "camembert\n",
      "['gruyere', 'manchego']\n"
     ]
    }
   ],
   "source": [
    "print(cheeses)\n",
    "print(cheeses[1])\n",
    "print(cheeses[-1])\n",
    "print(cheeses[-3:-1])"
   ],
   "metadata": {
    "collapsed": false,
    "ExecuteTime": {
     "end_time": "2024-05-27T15:31:13.199969Z",
     "start_time": "2024-05-27T15:31:13.192122Z"
    }
   },
   "id": "1287f2bdc88fe1cd"
  },
  {
   "cell_type": "markdown",
   "source": [
    "#### 1.3. Modify list values\n",
    "We can modify any element of a list"
   ],
   "metadata": {
    "collapsed": false
   },
   "id": "5f191bfcc5c51891"
  },
  {
   "cell_type": "code",
   "execution_count": 6,
   "outputs": [
    {
     "name": "stdout",
     "output_type": "stream",
     "text": [
      "['gruyere', 'manchego', 'havarti']\n"
     ]
    }
   ],
   "source": [
    "cheeses[2] = \"havarti\"  # Modify an element\n",
    "print(cheeses)"
   ],
   "metadata": {
    "collapsed": false,
    "ExecuteTime": {
     "end_time": "2024-05-27T15:32:13.045377Z",
     "start_time": "2024-05-27T15:32:13.036800Z"
    }
   },
   "id": "89a4adb19a285c26"
  },
  {
   "cell_type": "markdown",
   "source": [
    "#### 1.4. Combine different Types\n",
    "Lists can contain values with different types. "
   ],
   "metadata": {
    "collapsed": false
   },
   "id": "f981bad881723dda"
  },
  {
   "cell_type": "code",
   "execution_count": null,
   "outputs": [],
   "source": [
    "# Example:\n",
    "miscellaneous = [234, 'potato', 3.5, [1, 2, 3]]\n",
    "print(miscellaneous)  # Output: [234, 'potato', 3.5, [1, 2, 3]]\n"
   ],
   "metadata": {
    "collapsed": false
   },
   "id": "760d35c4dc58e5f3"
  },
  {
   "cell_type": "markdown",
   "source": [
    "#### 1.5 Operations with Lists\n",
    "Concatenation and Repetition"
   ],
   "metadata": {
    "collapsed": false
   },
   "id": "325a2afbed20c24e"
  },
  {
   "cell_type": "code",
   "execution_count": null,
   "outputs": [],
   "source": [
    "# Example:\n",
    "a = [1, 2, 3]\n",
    "b = [4, 5]\n",
    "c = a + b\n",
    "print(c)  \n",
    "\n",
    "d = a * 3\n",
    "print(d)  "
   ],
   "metadata": {
    "collapsed": false
   },
   "id": "d9be650c9d11e7a"
  },
  {
   "cell_type": "markdown",
   "source": [
    "#### 1.6 List Length and Comparison\n",
    "len() function can be used to know the length of a list. Since a string is also a list of characters it can be also used to calculate the length of a string but never to calculate length of atomic types. "
   ],
   "metadata": {
    "collapsed": false
   },
   "id": "77219b7345cf7d81"
  },
  {
   "cell_type": "code",
   "execution_count": null,
   "outputs": [],
   "source": [
    "# Example:\n",
    "a = [10, 20, 30]\n",
    "print(len(a))  # Output: 3"
   ],
   "metadata": {
    "collapsed": false
   },
   "id": "ba8cd964b228ad04"
  },
  {
   "cell_type": "code",
   "execution_count": null,
   "outputs": [],
   "source": [
    "a = True\n",
    "b = 20\n",
    "print(len(a))\n",
    "print(len(b))"
   ],
   "metadata": {
    "collapsed": false
   },
   "id": "e0f6a594b4001d31"
  },
  {
   "cell_type": "code",
   "execution_count": null,
   "outputs": [],
   "source": [
    "# Comparing lists Example:\n",
    "a = [1, 2, 3, 4, 5]\n",
    "b = [1, 2, 4]\n",
    "print(a > b)  # Output: True (based on lexicographical comparison)"
   ],
   "metadata": {
    "collapsed": false
   },
   "id": "440c382fdd6d55f8"
  },
  {
   "cell_type": "code",
   "execution_count": 8,
   "outputs": [
    {
     "name": "stdout",
     "output_type": "stream",
     "text": [
      "False\n"
     ]
    }
   ],
   "source": [
    "a = [1, 2, 3]\n",
    "b = [1, 2, 3]\n",
    "print(a is b)\n",
    "print(a == b)"
   ],
   "metadata": {
    "collapsed": false,
    "ExecuteTime": {
     "end_time": "2024-05-27T15:41:14.833414Z",
     "start_time": "2024-05-27T15:41:14.823554Z"
    }
   },
   "id": "adcfefa09536bf91"
  },
  {
   "cell_type": "markdown",
   "source": [
    "#### 1.6 List Creation and Manipulation\n",
    "There are several ways of creating a list. We will see some examples"
   ],
   "metadata": {
    "collapsed": false
   },
   "id": "b3e750f7dac152ee"
  },
  {
   "cell_type": "code",
   "execution_count": 17,
   "outputs": [
    {
     "name": "stdout",
     "output_type": "stream",
     "text": [
      "[0, 1, 2, 3, 4, 5, 6, 7, 8, 9]\n",
      "10\n",
      "[]\n",
      "0\n",
      "300\n"
     ]
    }
   ],
   "source": [
    "range_list = list(range(10))\n",
    "print(range_list)\n",
    "print(len(range_list))\n",
    "\n",
    "void_list = []\n",
    "print(void_list)\n",
    "print(len(void_list))\n",
    "\n",
    "\n",
    "\n",
    "void_list_large = [0]*300\n",
    "print(len(void_list_large))"
   ],
   "metadata": {
    "collapsed": false,
    "ExecuteTime": {
     "end_time": "2024-05-28T07:32:39.200386Z",
     "start_time": "2024-05-28T07:32:39.197288Z"
    }
   },
   "id": "1c5e806c58bcbb6c"
  },
  {
   "cell_type": "markdown",
   "source": [
    "append() function allows us to keep on adding elements (one by one) to a list. It is the most common and efficient way to keep broadening a list\n",
    "\n",
    "It is used as it follows:\n",
    "\n",
    "list_variable.append(element)\n",
    "\n",
    "This adds the element at the end of the list.\n",
    "\n",
    "NB: later on we will see that append() is indeed a method."
   ],
   "metadata": {
    "collapsed": false
   },
   "id": "268655ccf0df95e7"
  },
  {
   "cell_type": "code",
   "execution_count": null,
   "outputs": [],
   "source": [
    "# Concatenate lists with append()\n",
    "#=================================\n",
    "a = list(range(5))\n",
    "b = list(range(10,15))\n",
    "\n",
    "print(\"A1:\",a)\n",
    "\n",
    "a.append(10) #append will only add an element at a time\n",
    "print(\"A2:\",a)\n",
    "\n",
    "for i in range(20,30): #it can be used in a loop\n",
    "  a.append(i)\n",
    "print(\"A3:\",a)\n",
    "\n",
    "print(\"B:\",b)\n",
    "a.append(b) #this is NOT the same, it adds all b as a single element in the list (a sublist) !!!\n",
    "print(\"A4:\",a)"
   ],
   "metadata": {
    "collapsed": false
   },
   "id": "36a594854e00d9cf"
  },
  {
   "cell_type": "markdown",
   "source": [
    "\n",
    "#### 1.7 List Conditionals IF-in\n",
    "\n",
    "**in** (without for) works as a boolean operator that tell us if an element is inside the list (element in list)"
   ],
   "metadata": {
    "collapsed": false
   },
   "id": "b7ccf5b674ac929c"
  },
  {
   "cell_type": "code",
   "execution_count": 18,
   "outputs": [
    {
     "name": "stdout",
     "output_type": "stream",
     "text": [
      "True\n",
      "True\n",
      "False\n",
      "True\n"
     ]
    }
   ],
   "source": [
    "number_list = [1,2,3,4]\n",
    "print(1 in number_list)\n",
    "print(2 in number_list)\n",
    "print(5 in number_list)\n",
    "print(\"manchego\" in cheeses)"
   ],
   "metadata": {
    "collapsed": false,
    "ExecuteTime": {
     "end_time": "2024-05-28T07:40:03.105639Z",
     "start_time": "2024-05-28T07:40:03.101130Z"
    }
   },
   "id": "6e7b3f7aeab52851"
  },
  {
   "cell_type": "code",
   "execution_count": 19,
   "outputs": [
    {
     "name": "stdout",
     "output_type": "stream",
     "text": [
      "manchego already on the list\n",
      "['gruyere', 'camembert', 'manchego']\n"
     ]
    }
   ],
   "source": [
    "# In this example we want to add chesses without adding duplicates\n",
    "# we will exit with ENTER (no text)\n",
    "\n",
    "cheeses=['gruyere','camembert','manchego']\n",
    "\n",
    "new_cheese = input(\"Introduce cheeses (ENTER to exit): \")\n",
    "while new_cheese != \"\": #cadena vacía resultante de ENTER\n",
    "  if new_cheese not in cheeses:\n",
    "    cheeses.append(new_cheese)\n",
    "  else:\n",
    "    print(new_cheese,\"already on the list\")\n",
    "  new_cheese = input(\"Keep on adding cheeses (ENTER to exit): \")\n",
    "\n",
    "print(cheeses)"
   ],
   "metadata": {
    "collapsed": false,
    "ExecuteTime": {
     "end_time": "2024-05-28T07:41:02.981803Z",
     "start_time": "2024-05-28T07:40:56.028949Z"
    }
   },
   "id": "60aaef55a84855d3"
  },
  {
   "cell_type": "markdown",
   "source": [
    "We had used for-in with strings. The reasin is that strings behave as a list of characters. In the next examples we will also use if-in with strings There are a difference between strings and list, and it is that strings are **inmutable**. Once the string is created we cannot modify it."
   ],
   "metadata": {
    "collapsed": false
   },
   "id": "e05225b9505eb2c9"
  },
  {
   "cell_type": "code",
   "execution_count": 20,
   "outputs": [
    {
     "ename": "TypeError",
     "evalue": "'str' object does not support item assignment",
     "output_type": "error",
     "traceback": [
      "\u001B[0;31m---------------------------------------------------------------------------\u001B[0m",
      "\u001B[0;31mTypeError\u001B[0m                                 Traceback (most recent call last)",
      "Cell \u001B[0;32mIn[20], line 2\u001B[0m\n\u001B[1;32m      1\u001B[0m animal \u001B[38;5;241m=\u001B[39m \u001B[38;5;124m\"\u001B[39m\u001B[38;5;124mcabra\u001B[39m\u001B[38;5;124m\"\u001B[39m\n\u001B[0;32m----> 2\u001B[0m \u001B[43manimal\u001B[49m\u001B[43m[\u001B[49m\u001B[38;5;241;43m1\u001B[39;49m\u001B[43m]\u001B[49m \u001B[38;5;241m=\u001B[39m \u001B[38;5;124m'\u001B[39m\u001B[38;5;124me\u001B[39m\u001B[38;5;124m'\u001B[39m\n",
      "\u001B[0;31mTypeError\u001B[0m: 'str' object does not support item assignment"
     ]
    }
   ],
   "source": [
    "animal = \"cabra\"\n",
    "animal[1] = 'e'"
   ],
   "metadata": {
    "collapsed": false,
    "ExecuteTime": {
     "end_time": "2024-05-28T07:53:36.799309Z",
     "start_time": "2024-05-28T07:53:36.795449Z"
    }
   },
   "id": "33073147c5044a26"
  },
  {
   "cell_type": "markdown",
   "source": [],
   "metadata": {
    "collapsed": false
   },
   "id": "5ecaba8508d6937b"
  },
  {
   "cell_type": "markdown",
   "source": [],
   "metadata": {
    "collapsed": false
   },
   "id": "b109ed58a7fbf343"
  },
  {
   "cell_type": "markdown",
   "source": [],
   "metadata": {
    "collapsed": false
   },
   "id": "4212c0dddc9b661d"
  }
 ],
 "metadata": {
  "kernelspec": {
   "display_name": "Python 3 (ipykernel)",
   "language": "python",
   "name": "python3"
  },
  "language_info": {
   "codemirror_mode": {
    "name": "ipython",
    "version": 3
   },
   "file_extension": ".py",
   "mimetype": "text/x-python",
   "name": "python",
   "nbconvert_exporter": "python",
   "pygments_lexer": "ipython3",
   "version": "3.9.6"
  }
 },
 "nbformat": 4,
 "nbformat_minor": 5
}
