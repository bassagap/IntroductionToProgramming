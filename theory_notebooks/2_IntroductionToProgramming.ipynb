{
 "cells": [
  {
   "cell_type": "markdown",
   "id": "46a7431d9d8b5200",
   "metadata": {
    "collapsed": false,
    "jupyter": {
     "outputs_hidden": false
    }
   },
   "source": [
    "# Introduction to Programming and Python\n",
    "## Conditional structures and loops\n",
    "\n"
   ]
  },
  {
   "cell_type": "markdown",
   "id": "ce92fcbe62cf0871",
   "metadata": {
    "collapsed": false,
    "jp-MarkdownHeadingCollapsed": true,
    "jupyter": {
     "outputs_hidden": false
    }
   },
   "source": [
    "### 1. Conditionals if, else, elif"
   ]
  },
  {
   "cell_type": "markdown",
   "id": "a7f17a52903aabb5",
   "metadata": {
    "collapsed": false,
    "jupyter": {
     "outputs_hidden": false
    }
   },
   "source": [
    "#### 1.1 If condition\n",
    "Structure of *if* statement in python. In order to create a condition with Python you need to define a condition, and indent inside the block al the actions to be performed when the condition is met. \n",
    "[The tab vs spaces Python war ;](https://www.youtube.com/watch?v=SsoOG6ZeyUI)\n",
    "\n",
    "```\n",
    "if condition:\n",
    "    action1\n",
    "    action2\n",
    "    action3\n",
    "continue....\n",
    "```"
   ]
  },
  {
   "cell_type": "code",
   "execution_count": 3,
   "id": "9614393a14f2ad7d",
   "metadata": {
    "ExecuteTime": {
     "end_time": "2024-04-11T13:41:45.123173Z",
     "start_time": "2024-04-11T13:41:41.431034Z"
    },
    "collapsed": false,
    "jupyter": {
     "outputs_hidden": false
    }
   },
   "outputs": [
    {
     "name": "stdout",
     "output_type": "stream",
     "text": [
      "Your absolute number is: 23.0\n"
     ]
    }
   ],
   "source": [
    "num = float(input(\"Introduce a number: \"))\n",
    "if num < 0:\n",
    "    num = -num\n",
    "print(\"Your absolute number is:\", num)"
   ]
  },
  {
   "cell_type": "markdown",
   "id": "ee99ef132a3b28bd",
   "metadata": {
    "collapsed": false,
    "jupyter": {
     "outputs_hidden": false
    }
   },
   "source": [
    "#### 1.2. if-else condition\n",
    "The else clause is the piece of code that will be executed in case the condition in the initial if condition is not met. \n",
    "\n",
    "```\n",
    "if condition:\n",
    "  actionTrue1\n",
    "  actionTrue2\n",
    "  actionTrue3\n",
    "else:\n",
    "  actionFalse1\n",
    "  actionFalse2\n",
    "  actionFalse3\n",
    "continue...\n",
    "```"
   ]
  },
  {
   "cell_type": "markdown",
   "id": "c49088f1c51ad295",
   "metadata": {
    "collapsed": false,
    "jupyter": {
     "outputs_hidden": false
    }
   },
   "source": [
    "##### 1. Exercise\n",
    "Create a program that asks for three grades, calculates its mean, and prints weather the student has approved or not"
   ]
  },
  {
   "cell_type": "code",
   "execution_count": null,
   "id": "545623b5c084857a",
   "metadata": {
    "collapsed": false,
    "jupyter": {
     "outputs_hidden": false
    }
   },
   "outputs": [],
   "source": [
    "#Here your code"
   ]
  },
  {
   "cell_type": "markdown",
   "id": "b5d8f14052d58286",
   "metadata": {
    "collapsed": false,
    "jupyter": {
     "outputs_hidden": false
    }
   },
   "source": [
    "####  1.3. Elif condition\n",
    "Python allows to abreviate an 'else if' statement in a single instruction, this is the so called 'elif' and in many programming languages it does not exist. Let's see how it can help us simplify our code."
   ]
  },
  {
   "cell_type": "code",
   "execution_count": 9,
   "id": "51a5fa23b9a30cc0",
   "metadata": {
    "ExecuteTime": {
     "end_time": "2024-04-10T11:32:48.208917Z",
     "start_time": "2024-04-10T11:32:48.204725Z"
    },
    "collapsed": false,
    "jupyter": {
     "outputs_hidden": false
    }
   },
   "outputs": [
    {
     "name": "stdout",
     "output_type": "stream",
     "text": [
      "16\n"
     ]
    }
   ],
   "source": [
    "#First we will use a program to see what medal did we win \n",
    "position = int(input(\"What is your position? \"))\n",
    "\n",
    "if position == 1:\n",
    "  print(\"Gold Medal\")\n",
    "else:\n",
    "  if position == 2:\n",
    "    print(\"Silver Medal\")\n",
    "  else:\n",
    "    if position == 3:\n",
    "      print(\"Bronce Medal\")\n",
    "    else:\n",
    "      if position >= 4 and position <= 10:\n",
    "        print(\"Olympic Diploma\")\n",
    "      else:\n",
    "        print(\"No Prize :(\")\n",
    "              \n",
    "#Let's repeat the exercise using elif:\n"
   ]
  },
  {
   "cell_type": "markdown",
   "id": "a6f3e7b3ef4ac929",
   "metadata": {
    "collapsed": false,
    "jupyter": {
     "outputs_hidden": false
    }
   },
   "source": [
    "##### 2.Exercise\n",
    "Make a program that given 3 numbers introduced by the user calculates the maximum"
   ]
  },
  {
   "cell_type": "code",
   "execution_count": null,
   "id": "1724d1d3d2564eba",
   "metadata": {
    "collapsed": false,
    "jupyter": {
     "outputs_hidden": false
    }
   },
   "outputs": [],
   "source": [
    "#Here your code:\n",
    "num1 = int(input(\"First number:\"))\n",
    "num2 = int(input(\"Second number:\"))\n",
    "num3 = int(input(\"Third number:\"))\n",
    "#Add code here"
   ]
  },
  {
   "cell_type": "markdown",
   "id": "a76f1b0a352c6d87",
   "metadata": {
    "collapsed": false,
    "jupyter": {
     "outputs_hidden": false
    }
   },
   "source": [
    "### 2. Loops\n",
    "Loops allow to execute certain actions repeatedly "
   ]
  },
  {
   "cell_type": "markdown",
   "id": "f9b21e22a1408450",
   "metadata": {
    "collapsed": false,
    "jp-MarkdownHeadingCollapsed": true,
    "jupyter": {
     "outputs_hidden": false
    }
   },
   "source": [
    "#### 2.1 While Loops\n",
    "While loop allows to execute an amount of instructions while the condition is met.\n",
    "```\n",
    "while conditino:\n",
    "  action1\n",
    "  action2\n",
    "  action3\n",
    "  ...\n",
    "continue\n",
    "```"
   ]
  },
  {
   "cell_type": "markdown",
   "id": "5a68dd3de140d843",
   "metadata": {
    "collapsed": false,
    "jupyter": {
     "outputs_hidden": false
    }
   },
   "source": [
    "Previously we had a little program where we converted an input number into its absolute value. What if we want to keep asking for numbers until use enters \"exit\" ?"
   ]
  },
  {
   "cell_type": "code",
   "execution_count": 8,
   "id": "4accf8b042c7773c",
   "metadata": {
    "ExecuteTime": {
     "end_time": "2024-04-11T14:14:04.107098Z",
     "start_time": "2024-04-11T14:13:37.011012Z"
    },
    "collapsed": false,
    "jupyter": {
     "outputs_hidden": false
    }
   },
   "outputs": [
    {
     "name": "stdout",
     "output_type": "stream",
     "text": [
      "Your absolute number is: 6.0\n",
      "Your absolute number is: 8.0\n",
      "Your absolute number is: 9.0\n",
      "Your absolute number is: 5.0\n",
      "Your absolute number is: 8.0\n"
     ]
    },
    {
     "ename": "ValueError",
     "evalue": "could not convert string to float: ''",
     "output_type": "error",
     "traceback": [
      "\u001b[0;31m---------------------------------------------------------------------------\u001b[0m",
      "\u001b[0;31mValueError\u001b[0m                                Traceback (most recent call last)",
      "Cell \u001b[0;32mIn[8], line 3\u001b[0m\n\u001b[1;32m      1\u001b[0m num \u001b[38;5;241m=\u001b[39m \u001b[38;5;28minput\u001b[39m(\u001b[38;5;124m\"\u001b[39m\u001b[38;5;124mIntroduce a number: \u001b[39m\u001b[38;5;124m\"\u001b[39m)\n\u001b[1;32m      2\u001b[0m \u001b[38;5;28;01mwhile\u001b[39;00m num \u001b[38;5;241m!=\u001b[39m \u001b[38;5;124m\"\u001b[39m\u001b[38;5;124mexit\u001b[39m\u001b[38;5;124m\"\u001b[39m: \n\u001b[0;32m----> 3\u001b[0m   num \u001b[38;5;241m=\u001b[39m \u001b[38;5;28;43mfloat\u001b[39;49m\u001b[43m(\u001b[49m\u001b[43mnum\u001b[49m\u001b[43m)\u001b[49m\n\u001b[1;32m      4\u001b[0m   \u001b[38;5;28;01mif\u001b[39;00m num \u001b[38;5;241m<\u001b[39m \u001b[38;5;241m0\u001b[39m:\n\u001b[1;32m      5\u001b[0m       num \u001b[38;5;241m=\u001b[39m \u001b[38;5;241m-\u001b[39mnum\n",
      "\u001b[0;31mValueError\u001b[0m: could not convert string to float: ''"
     ]
    }
   ],
   "source": [
    "#TODO: Change this code, improve\n",
    "num = input(\"Introduce a number: \")\n",
    "while num != \"exit\": \n",
    "  if num < 0:\n",
    "      num = -num\n",
    "  print(\"Your absolute number is:\", num)\n",
    "  num = input(\"Please introduce a number or type exit: \")\n",
    "print(\"You exited the program correctly\")"
   ]
  },
  {
   "cell_type": "markdown",
   "id": "b0e32068e666720",
   "metadata": {
    "collapsed": false,
    "jp-MarkdownHeadingCollapsed": true,
    "jupyter": {
     "outputs_hidden": false
    }
   },
   "source": [
    "#### 3.2. For-in loops\n",
    "For in loops allows to execute a set of instructions given a number of items in a list\n",
    "For example printing ages of each person in the list person_lists= [paula, carlos, javi, carolina] \n",
    "\n",
    "We will study lists in depth in the near future! \n",
    "The structure is: \n",
    "```\n",
    "for variable in list_of_values:\n",
    "  action1\n",
    "  action2\n",
    "  action3\n",
    "  ...\n",
    "```"
   ]
  },
  {
   "cell_type": "code",
   "execution_count": null,
   "id": "8f1df4a919c492bc",
   "metadata": {
    "collapsed": false,
    "jupyter": {
     "outputs_hidden": false
    }
   },
   "outputs": [],
   "source": [
    "#For example: \n",
    "list_person = [\"paula\", \"carlos\", \"javi\", \"carolina\"]\n",
    "for person in list_person: \n",
    "  print(\"Person name is:\", person)"
   ]
  },
  {
   "cell_type": "markdown",
   "id": "8d54d5c105a8d61f",
   "metadata": {
    "collapsed": false,
    "jupyter": {
     "outputs_hidden": false
    }
   },
   "source": [
    "Let's introduce function range()"
   ]
  },
  {
   "cell_type": "code",
   "execution_count": null,
   "id": "93468939e5cc7666",
   "metadata": {
    "collapsed": false,
    "jupyter": {
     "outputs_hidden": false
    }
   },
   "outputs": [],
   "source": [
    "list(range(10)) "
   ]
  },
  {
   "cell_type": "code",
   "execution_count": null,
   "id": "93f71f3e61d1ebc1",
   "metadata": {
    "collapsed": false,
    "jupyter": {
     "outputs_hidden": false
    }
   },
   "outputs": [],
   "source": [
    "for i in range(0,12):\n",
    "  print(i)\n",
    "\n",
    "print(\"======\")\n",
    "\n",
    "m = 3\n",
    "n = 21\n",
    "print(\"de\",m,\"a\",n,\"de\",m,\"en\",m)\n",
    "for i in range(m,n+1,m):\n",
    "  print(i)"
   ]
  },
  {
   "cell_type": "code",
   "execution_count": 10,
   "id": "4e225b54a25dc773",
   "metadata": {
    "ExecuteTime": {
     "end_time": "2024-04-10T11:58:06.967122Z",
     "start_time": "2024-04-10T11:58:06.962442Z"
    },
    "collapsed": false,
    "jupyter": {
     "outputs_hidden": false
    }
   },
   "outputs": [
    {
     "name": "stdout",
     "output_type": "stream",
     "text": [
      "Converted integer as float: 10.0\n",
      "Converted float as integer: 5\n",
      "Concatenated string: Integer: 10, Float: 5.5\n",
      "\n",
      "Reflection:\n",
      "Handling data types correctly is crucial in testing to ensure accurate representation of inputs and outputs.\n",
      "In this exercise, we converted an integer to a float and a float to an integer to demonstrate type conversion.\n",
      "We also concatenated different data types into a single string for better readability.\n",
      "Understanding data types helps testers design robust test cases and verify the behavior of functions under various scenarios.\n"
     ]
    }
   ],
   "source": [
    "text = input(\"Introduce a text: \")\n",
    "minusc = 0\n",
    "mayusc = 0\n",
    "cifras = 0\n",
    "resto = 0\n",
    "espais = 0\n",
    "\n",
    "for c in text:\n",
    "  if 'a'<=c and c<='z': #forma \"larga\" con and\n",
    "    minusc += 1\n",
    "  elif 'A'<=c<='Z': #forma corta\n",
    "    mayusc += 1\n",
    "  elif '0'<=c<='9':\n",
    "    cifras += 1\n",
    "  elif c == \" \":\n",
    "    espais += 1\n",
    "  else:\n",
    "    resto += 1\n",
    "\n",
    "print(\"el texto tiene\",minusc,\"minusculas\",mayusc,\"mayusculas y\",cifras,\"cifras\",espais,\"espais\")\n",
    "print(\"su longitud es de\",minusc+mayusc+cifras+resto+espais,\"caracteres\")\n",
    "print(len(text))"
   ]
  },
  {
   "cell_type": "markdown",
   "id": "29ec6cc542cd2da1",
   "metadata": {
    "collapsed": false,
    "jupyter": {
     "outputs_hidden": false
    }
   },
   "source": []
  },
  {
   "cell_type": "code",
   "execution_count": null,
   "id": "cfce2f304faeece8",
   "metadata": {
    "collapsed": false,
    "jupyter": {
     "outputs_hidden": false
    }
   },
   "outputs": [],
   "source": []
  },
  {
   "cell_type": "markdown",
   "id": "336eed87601b9c14",
   "metadata": {
    "collapsed": false,
    "jupyter": {
     "outputs_hidden": false
    }
   },
   "source": []
  },
  {
   "cell_type": "code",
   "execution_count": null,
   "id": "263607ee43afc0e1",
   "metadata": {
    "collapsed": false,
    "jupyter": {
     "outputs_hidden": false
    }
   },
   "outputs": [],
   "source": []
  }
 ],
 "metadata": {
  "kernelspec": {
   "display_name": "Python 3 (ipykernel)",
   "language": "python",
   "name": "python3"
  },
  "language_info": {
   "codemirror_mode": {
    "name": "ipython",
    "version": 3
   },
   "file_extension": ".py",
   "mimetype": "text/x-python",
   "name": "python",
   "nbconvert_exporter": "python",
   "pygments_lexer": "ipython3",
   "version": "3.9.6"
  }
 },
 "nbformat": 4,
 "nbformat_minor": 5
}
