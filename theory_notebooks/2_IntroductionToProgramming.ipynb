{
 "cells": [
  {
   "cell_type": "markdown",
   "id": "46a7431d9d8b5200",
   "metadata": {
    "collapsed": false
   },
   "source": [
    "# Introduction to Programming and Python\n",
    "## Conditional structures, loops and functions\n",
    "\n"
   ]
  },
  {
   "cell_type": "markdown",
   "id": "ce92fcbe62cf0871",
   "metadata": {
    "collapsed": false,
    "jp-MarkdownHeadingCollapsed": true
   },
   "source": [
    "### 1. Conditionals if, else, elif"
   ]
  },
  {
   "cell_type": "markdown",
   "id": "a7f17a52903aabb5",
   "metadata": {
    "collapsed": false
   },
   "source": [
    "#### 1.1 If condition\n",
    "Structure of *if* statement in python. In order to create a condition with Python you need to define a condition, and indent inside the block al the actions to be performed when the condition is met. \n",
    "[The tab vs spaces Python war ;](https://www.youtube.com/watch?v=SsoOG6ZeyUI)\n",
    "\n",
    "```\n",
    "if condition:\n",
    "    action1\n",
    "    action2\n",
    "    action3\n",
    "continue....\n",
    "```"
   ]
  },
  {
   "cell_type": "code",
   "execution_count": 3,
   "id": "9614393a14f2ad7d",
   "metadata": {
    "ExecuteTime": {
     "end_time": "2024-04-11T13:41:45.123173Z",
     "start_time": "2024-04-11T13:41:41.431034Z"
    },
    "collapsed": false
   },
   "outputs": [
    {
     "name": "stdout",
     "output_type": "stream",
     "text": [
      "Your absolute number is: 23.0\n"
     ]
    }
   ],
   "source": [
    "num = float(input(\"Introduce a number: \"))\n",
    "if num < 0:\n",
    "    num = -num\n",
    "print(\"Your absolute number is:\", num)"
   ]
  },
  {
   "cell_type": "markdown",
   "id": "ee99ef132a3b28bd",
   "metadata": {
    "collapsed": false
   },
   "source": [
    "#### 1.2. if-else condition\n",
    "The else clause is the piece of code that will be executed in case the condition in the initial if condition is not met. \n",
    "\n",
    "```\n",
    "if condition:\n",
    "  actionTrue1\n",
    "  actionTrue2\n",
    "  actionTrue3\n",
    "else:\n",
    "  actionFalse1\n",
    "  actionFalse2\n",
    "  actionFalse3\n",
    "continue...\n",
    "```"
   ]
  },
  {
   "cell_type": "markdown",
   "id": "c49088f1c51ad295",
   "metadata": {
    "collapsed": false
   },
   "source": [
    "##### 1. Exercise\n",
    "Create a program that asks for three grades, calculates its mean, and prints weather the student has passed or not"
   ]
  },
  {
   "cell_type": "code",
   "execution_count": null,
   "id": "545623b5c084857a",
   "metadata": {
    "collapsed": false
   },
   "outputs": [],
   "source": [
    "#Here your code"
   ]
  },
  {
   "cell_type": "markdown",
   "id": "b5d8f14052d58286",
   "metadata": {
    "collapsed": false
   },
   "source": [
    "####  1.3. Elif condition\n",
    "Python allows to abreviate an 'else if' statement in a single instruction, this is the so called 'elif' and in many programming languages it does not exist. Let's see how it can help us simplify our code."
   ]
  },
  {
   "cell_type": "code",
   "execution_count": 9,
   "id": "51a5fa23b9a30cc0",
   "metadata": {
    "ExecuteTime": {
     "end_time": "2024-04-10T11:32:48.208917Z",
     "start_time": "2024-04-10T11:32:48.204725Z"
    },
    "collapsed": false
   },
   "outputs": [
    {
     "name": "stdout",
     "output_type": "stream",
     "text": [
      "16\n"
     ]
    }
   ],
   "source": [
    "#First we will use a program to see what medal did we win \n",
    "position = int(input(\"What is your position? \"))\n",
    "\n",
    "if position == 1:\n",
    "  print(\"Gold Medal\")\n",
    "else:\n",
    "  if position == 2:\n",
    "    print(\"Silver Medal\")\n",
    "  else:\n",
    "    if position == 3:\n",
    "      print(\"Bronce Medal\")\n",
    "    else:\n",
    "      if position >= 4 and position <= 10:\n",
    "        print(\"Olympic Diploma\")\n",
    "      else:\n",
    "        print(\"No Prize :(\")\n",
    "              \n",
    "#Let's repeat the exercise using elif:\n"
   ]
  },
  {
   "cell_type": "markdown",
   "id": "a6f3e7b3ef4ac929",
   "metadata": {
    "collapsed": false
   },
   "source": [
    "##### 2.Exercise\n",
    "Make a program that given 3 numbers introduced by the user calculates the maximum"
   ]
  },
  {
   "cell_type": "code",
   "execution_count": null,
   "id": "1724d1d3d2564eba",
   "metadata": {
    "collapsed": false
   },
   "outputs": [],
   "source": [
    "#Here your code:\n",
    "num1 = int(input(\"First number:\"))\n",
    "num2 = int(input(\"Second number:\"))\n",
    "num3 = int(input(\"Third number:\"))\n",
    "#Add code here"
   ]
  },
  {
   "cell_type": "markdown",
   "id": "a76f1b0a352c6d87",
   "metadata": {
    "collapsed": false
   },
   "source": [
    "### 2. Loops\n",
    "Loops allow to execute certain actions repeatedly "
   ]
  },
  {
   "cell_type": "markdown",
   "id": "f9b21e22a1408450",
   "metadata": {
    "collapsed": false,
    "jp-MarkdownHeadingCollapsed": true
   },
   "source": [
    "#### 2.1 While Loops\n",
    "While loop allows to execute an amount of instructions while the condition is met.\n",
    "```\n",
    "while conditino:\n",
    "  action1\n",
    "  action2\n",
    "  action3\n",
    "  ...\n",
    "continue\n",
    "```"
   ]
  },
  {
   "cell_type": "markdown",
   "id": "5a68dd3de140d843",
   "metadata": {
    "collapsed": false
   },
   "source": [
    "Previously we had a little program where we converted an input number into its absolute value. What if we want to keep asking for numbers until use enters \"exit\" ?"
   ]
  },
  {
   "cell_type": "code",
   "execution_count": 8,
   "id": "4accf8b042c7773c",
   "metadata": {
    "ExecuteTime": {
     "end_time": "2024-04-11T14:14:04.107098Z",
     "start_time": "2024-04-11T14:13:37.011012Z"
    },
    "collapsed": false
   },
   "outputs": [
    {
     "name": "stdout",
     "output_type": "stream",
     "text": [
      "Your absolute number is: 6.0\n",
      "Your absolute number is: 8.0\n",
      "Your absolute number is: 9.0\n",
      "Your absolute number is: 5.0\n",
      "Your absolute number is: 8.0\n"
     ]
    },
    {
     "ename": "ValueError",
     "evalue": "could not convert string to float: ''",
     "output_type": "error",
     "traceback": [
      "\u001B[0;31m---------------------------------------------------------------------------\u001B[0m",
      "\u001B[0;31mValueError\u001B[0m                                Traceback (most recent call last)",
      "Cell \u001B[0;32mIn[8], line 3\u001B[0m\n\u001B[1;32m      1\u001B[0m num \u001B[38;5;241m=\u001B[39m \u001B[38;5;28minput\u001B[39m(\u001B[38;5;124m\"\u001B[39m\u001B[38;5;124mIntroduce a number: \u001B[39m\u001B[38;5;124m\"\u001B[39m)\n\u001B[1;32m      2\u001B[0m \u001B[38;5;28;01mwhile\u001B[39;00m num \u001B[38;5;241m!=\u001B[39m \u001B[38;5;124m\"\u001B[39m\u001B[38;5;124mexit\u001B[39m\u001B[38;5;124m\"\u001B[39m: \n\u001B[0;32m----> 3\u001B[0m   num \u001B[38;5;241m=\u001B[39m \u001B[38;5;28;43mfloat\u001B[39;49m\u001B[43m(\u001B[49m\u001B[43mnum\u001B[49m\u001B[43m)\u001B[49m\n\u001B[1;32m      4\u001B[0m   \u001B[38;5;28;01mif\u001B[39;00m num \u001B[38;5;241m<\u001B[39m \u001B[38;5;241m0\u001B[39m:\n\u001B[1;32m      5\u001B[0m       num \u001B[38;5;241m=\u001B[39m \u001B[38;5;241m-\u001B[39mnum\n",
      "\u001B[0;31mValueError\u001B[0m: could not convert string to float: ''"
     ]
    }
   ],
   "source": [
    "#TODO: Change this code, improve\n",
    "num = input(\"Introduce a number: \")\n",
    "while num != \"exit\": \n",
    "  if num < 0:\n",
    "      num = -num\n",
    "  print(\"Your absolute number is:\", num)\n",
    "  num = input(\"Please introduce a number or type exit: \")\n",
    "print(\"You exited the program correctly\")"
   ]
  },
  {
   "cell_type": "markdown",
   "id": "b0e32068e666720",
   "metadata": {
    "collapsed": false,
    "jp-MarkdownHeadingCollapsed": true
   },
   "source": [
    "#### 2.2 For-in loops\n",
    "For in loops allows to execute a set of instructions given a number of items in a list\n",
    "For example printing ages of each person in the list person_lists= [paula, carlos, javi, carolina] \n",
    "\n",
    "We will study lists in depth in the near future! \n",
    "The structure is: \n",
    "```\n",
    "for variable in list_of_values:\n",
    "  action1\n",
    "  action2\n",
    "  action3\n",
    "  ...\n",
    "```"
   ]
  },
  {
   "cell_type": "code",
   "execution_count": null,
   "id": "8f1df4a919c492bc",
   "metadata": {
    "collapsed": false
   },
   "outputs": [],
   "source": [
    "#For example: \n",
    "list_person = [\"paula\", \"carlos\", \"javi\", \"carolina\"]\n",
    "for person in list_person: \n",
    "  print(\"Person name is:\", person)"
   ]
  },
  {
   "cell_type": "markdown",
   "id": "8d54d5c105a8d61f",
   "metadata": {
    "collapsed": false
   },
   "source": [
    "Let's introduce function range()"
   ]
  },
  {
   "cell_type": "code",
   "execution_count": null,
   "id": "93468939e5cc7666",
   "metadata": {
    "collapsed": false
   },
   "outputs": [],
   "source": [
    "list(range(10)) "
   ]
  },
  {
   "cell_type": "code",
   "execution_count": 1,
   "id": "93f71f3e61d1ebc1",
   "metadata": {
    "collapsed": false,
    "ExecuteTime": {
     "end_time": "2024-05-20T06:17:23.346897Z",
     "start_time": "2024-05-20T06:17:23.339096Z"
    }
   },
   "outputs": [
    {
     "name": "stdout",
     "output_type": "stream",
     "text": [
      "0\n",
      "1\n",
      "2\n",
      "3\n",
      "4\n",
      "5\n",
      "6\n",
      "7\n",
      "8\n",
      "9\n",
      "10\n",
      "11\n",
      "======\n",
      "de 3 a 21 de 3 en 3\n",
      "3\n",
      "6\n",
      "9\n",
      "12\n",
      "15\n",
      "18\n",
      "21\n"
     ]
    }
   ],
   "source": [
    "for i in range(0,12):\n",
    "  print(i)\n",
    "\n",
    "print(\"======\")\n",
    "\n",
    "m = 3\n",
    "n = 21\n",
    "print(\"from\",m,\"to\",n,\"in steps of\",m)\n",
    "for i in range(m,n+1,m):\n",
    "  print(i)"
   ]
  },
  {
   "cell_type": "code",
   "execution_count": 10,
   "id": "4e225b54a25dc773",
   "metadata": {
    "ExecuteTime": {
     "end_time": "2024-04-10T11:58:06.967122Z",
     "start_time": "2024-04-10T11:58:06.962442Z"
    },
    "collapsed": false
   },
   "outputs": [
    {
     "name": "stdout",
     "output_type": "stream",
     "text": [
      "Converted integer as float: 10.0\n",
      "Converted float as integer: 5\n",
      "Concatenated string: Integer: 10, Float: 5.5\n",
      "\n",
      "Reflection:\n",
      "Handling data types correctly is crucial in testing to ensure accurate representation of inputs and outputs.\n",
      "In this exercise, we converted an integer to a float and a float to an integer to demonstrate type conversion.\n",
      "We also concatenated different data types into a single string for better readability.\n",
      "Understanding data types helps testers design robust test cases and verify the behavior of functions under various scenarios.\n"
     ]
    }
   ],
   "source": [
    "text = input(\"Introduce a text: \")\n",
    "lower_case = 0\n",
    "upper_case = 0\n",
    "numbers = 0\n",
    "others = 0\n",
    "blank_space = 0\n",
    "\n",
    "for c in text:\n",
    "  if 'a'<=c and c<='z': #forma \"larga\" con and\n",
    "    lower_case += 1\n",
    "  elif 'A'<=c<='Z': #forma corta\n",
    "    upper_case += 1\n",
    "  elif '0'<=c<='9':\n",
    "    numbers += 1\n",
    "  elif c == \" \":\n",
    "    blank_space += 1\n",
    "  else:\n",
    "    others += 1\n",
    "\n",
    "print(\"Text has\",lower_case,\"lower cases\",upper_case,\"upper cases y\",numbers,\"numbers\",blank_space,\"blank spaces\")\n",
    "print(\"It's length is:\",lower_case+upper_case+numbers+others+blank_space,\"characters\")\n",
    "print(len(text))"
   ]
  },
  {
   "cell_type": "markdown",
   "id": "29ec6cc542cd2da1",
   "metadata": {
    "collapsed": false
   },
   "source": [
    "### 3. Functions\n",
    "#### 3.1. Introduction to Functions\n",
    "\n",
    "##### Examples of Existing Functions (Input and Outputs)\n",
    "###### We have been looking at many functions: `input()`, `print()`, `int()`, `float()`, `abs()`, `sin()`...\n",
    "These functions receive a variable number of inputs and produce one output or return a value.\n"
   ]
  },
  {
   "cell_type": "code",
   "execution_count": null,
   "id": "cfce2f304faeece8",
   "metadata": {
    "collapsed": false
   },
   "outputs": [],
   "source": [
    "# There are functions (a few ones) that do not return anything:\n",
    "a=print(\"Hello\") # it does not return anything\n",
    "print(a)"
   ]
  },
  {
   "cell_type": "markdown",
   "id": "336eed87601b9c14",
   "metadata": {
    "collapsed": false
   },
   "source": [
    "#### 3.2 Defining a function\n",
    "A function is defined using the 'def' keyword\n",
    "\n",
    "def function_name(parameter_1,parameter_2,...):\n",
    "  ....\n",
    "  ....\n",
    "  ....\n",
    "  return value # only if the function returns something.\n"
   ]
  },
  {
   "cell_type": "code",
   "execution_count": 1,
   "id": "263607ee43afc0e1",
   "metadata": {
    "collapsed": false,
    "ExecuteTime": {
     "end_time": "2024-05-20T07:04:34.278076Z",
     "start_time": "2024-05-20T07:04:34.271295Z"
    }
   },
   "outputs": [],
   "source": [
    "# Example\n",
    "def greet():\n",
    "  return \"Hello!\""
   ]
  },
  {
   "cell_type": "markdown",
   "source": [
    "**Declaring a function defining its input parameter types and output parameter types**\n",
    "In many languages, when we define a function we must indicate which are the types of the inputs and outputs, In Python this can be indicated as well but it is not mandatory. So for instance in Python you can pass variables of types that are not expected and it won't throw any error.\n",
    "\n",
    "def funcion_name(parameter_1: type, parameter_2: type,..., parameter_n: type) -> output_type:\n",
    "    .......\n",
    "    .......\n",
    "    return variable_or_expression_of_output_type\n",
    "   "
   ],
   "metadata": {
    "collapsed": false
   },
   "id": "c4ec0fee218aaf1b"
  },
  {
   "cell_type": "code",
   "execution_count": 4,
   "outputs": [
    {
     "name": "stdout",
     "output_type": "stream",
     "text": [
      "2.35\n"
     ]
    },
    {
     "ename": "ValueError",
     "evalue": "invalid literal for int() with base 10: 'bye'",
     "output_type": "error",
     "traceback": [
      "\u001B[0;31m---------------------------------------------------------------------------\u001B[0m",
      "\u001B[0;31mValueError\u001B[0m                                Traceback (most recent call last)",
      "Cell \u001B[0;32mIn[4], line 17\u001B[0m\n\u001B[1;32m     13\u001B[0m   \u001B[38;5;28;01mreturn\u001B[39;00m \u001B[38;5;28mint\u001B[39m(minimum)\n\u001B[1;32m     16\u001B[0m \u001B[38;5;28mprint\u001B[39m(min_float(\u001B[38;5;241m2.35\u001B[39m,\u001B[38;5;241m3.2\u001B[39m))\n\u001B[0;32m---> 17\u001B[0m \u001B[38;5;28mprint\u001B[39m(\u001B[43mmin_int\u001B[49m\u001B[43m(\u001B[49m\u001B[38;5;124;43m\"\u001B[39;49m\u001B[38;5;124;43mhello\u001B[39;49m\u001B[38;5;124;43m\"\u001B[39;49m\u001B[43m,\u001B[49m\u001B[38;5;124;43m\"\u001B[39;49m\u001B[38;5;124;43mbye\u001B[39;49m\u001B[38;5;124;43m\"\u001B[39;49m\u001B[43m)\u001B[49m)\n",
      "Cell \u001B[0;32mIn[4], line 13\u001B[0m, in \u001B[0;36mmin_int\u001B[0;34m(par1, par2)\u001B[0m\n\u001B[1;32m     11\u001B[0m \u001B[38;5;28;01melse\u001B[39;00m:\n\u001B[1;32m     12\u001B[0m   minimum \u001B[38;5;241m=\u001B[39m par1\n\u001B[0;32m---> 13\u001B[0m \u001B[38;5;28;01mreturn\u001B[39;00m \u001B[38;5;28;43mint\u001B[39;49m\u001B[43m(\u001B[49m\u001B[43mminimum\u001B[49m\u001B[43m)\u001B[49m\n",
      "\u001B[0;31mValueError\u001B[0m: invalid literal for int() with base 10: 'bye'"
     ]
    }
   ],
   "source": [
    "def min_float(par1: float, par2: float) -> float:\n",
    "  if par2 <= par1:\n",
    "    minimum = par2\n",
    "  else:\n",
    "    minimum = par1\n",
    "  return minimum\n",
    "\n",
    "def min_int(par1: int, par2: int) -> int:\n",
    "  if par2 <= par1:\n",
    "    minimum = par2\n",
    "  else:\n",
    "    minimum = par1\n",
    "  return int(minimum)\n",
    "\n",
    "\n",
    "print(min_float(2.35,3.2))\n",
    "print(min_int(\"hello\",\"bye\"))"
   ],
   "metadata": {
    "collapsed": false,
    "ExecuteTime": {
     "end_time": "2024-05-20T07:10:27.425280Z",
     "start_time": "2024-05-20T07:10:27.248263Z"
    }
   },
   "id": "eff485387da71380"
  },
  {
   "cell_type": "markdown",
   "source": [
    "#### 3.3 Calling a function\n",
    "Invoke the function by its name and pass arguments if needed."
   ],
   "metadata": {
    "collapsed": false
   },
   "id": "81e525bbf4269c40"
  },
  {
   "cell_type": "code",
   "execution_count": 2,
   "outputs": [
    {
     "data": {
      "text/plain": "'Hello!'"
     },
     "execution_count": 2,
     "metadata": {},
     "output_type": "execute_result"
    }
   ],
   "source": [
    "greet()"
   ],
   "metadata": {
    "collapsed": false,
    "ExecuteTime": {
     "end_time": "2024-05-20T07:04:35.782636Z",
     "start_time": "2024-05-20T07:04:35.769594Z"
    }
   },
   "id": "be895fe85c7486d3"
  },
  {
   "cell_type": "code",
   "execution_count": 3,
   "outputs": [
    {
     "name": "stdout",
     "output_type": "stream",
     "text": [
      "8\n"
     ]
    }
   ],
   "source": [
    "# Example with positional arguments\n",
    "def add(a, b):\n",
    "  return a + b\n",
    "\n",
    "\n",
    "print(add(5, 3))\n",
    "\n"
   ],
   "metadata": {
    "collapsed": false,
    "ExecuteTime": {
     "end_time": "2024-05-20T07:06:34.201010Z",
     "start_time": "2024-05-20T07:06:34.172071Z"
    }
   },
   "id": "c0d7985a74ea2430"
  },
  {
   "cell_type": "markdown",
   "source": [
    "#### 3.4 Return Statement\n",
    "The return statement is used to return a value from a function.\n",
    "A function can have more than one return but only one of them will be executed. "
   ],
   "metadata": {
    "collapsed": false
   },
   "id": "23ea806dd2f382e4"
  },
  {
   "cell_type": "code",
   "execution_count": null,
   "outputs": [],
   "source": [
    "\n",
    "def minimum_v2(par1,par2):\n",
    "  if par2 <= par1:\n",
    "    return par2\n",
    "  else:\n",
    "    return par1\n",
    "  return par1\n"
   ],
   "metadata": {
    "collapsed": false
   },
   "id": "4d34c0604475fa1a"
  },
  {
   "cell_type": "markdown",
   "source": [
    "#### 3.5 Scope and Lifetime of Variables\n",
    "Variables defined inside a function are local to that function."
   ],
   "metadata": {
    "collapsed": false
   },
   "id": "8289fb65ef35c820"
  },
  {
   "cell_type": "code",
   "execution_count": null,
   "outputs": [],
   "source": [
    "# Example\n",
    "def func():\n",
    "  local_var = \"I'm local\"\n",
    "  print(local_var)\n",
    "\n",
    "global_var = \"I'm global\"\n",
    "func()\n",
    "print(global_var)\n"
   ],
   "metadata": {
    "collapsed": false
   },
   "id": "4d7fdb0c98b58f66"
  },
  {
   "cell_type": "markdown",
   "source": [
    "#### Functional Design: MENU example\n",
    "Menu example"
   ],
   "metadata": {
    "collapsed": false
   },
   "id": "bfce3c02de76e5fa"
  },
  {
   "cell_type": "code",
   "execution_count": 7,
   "outputs": [
    {
     "name": "stdout",
     "output_type": "stream",
     "text": [
      "\n",
      "Calculate (p)erimeter\n",
      "Calculate (a)rea\n",
      "Calculate (v)olum\n",
      "New    (r)adius\n",
      "Show  (m)enu again\n",
      "         (e)xit\n",
      "BYE\n"
     ]
    }
   ],
   "source": [
    "import math\n",
    "\n",
    "# Function to display the menu options on the screen.\n",
    "def show_menu():\n",
    "  print(\"\\nCalculate (p)erimeter\")\n",
    "  print(\"Calculate (a)rea\")\n",
    "  print(\"Calculate (v)olum\")\n",
    "  print(\"New    (r)adius\")\n",
    "  print(\"Show  (m)enu again\")\n",
    "  print(\"         (e)xit\")\n",
    "\n",
    "#Function that asks for a user option (till the user enters a correct function)\n",
    "#Even better if it includes a try except\n",
    "def ask_option():\n",
    "  option = str.lower((input(\"\\nChoose an option (p,a,v,r,m,e): \")))\n",
    "  while option not in \"pavrme\": # vamos pidiendo mientras el usuario no quiera salir\n",
    "    option = str.lower((input(\"\\nChoose an option (p,a,v,r,m,e): \")))\n",
    "  return option\n",
    "\n",
    "#Main program\n",
    "\n",
    "radio = float(input(\"Introduce radius: \"))\n",
    "show_menu()\n",
    "option = ask_option()\n",
    "\n",
    "while option != 'e': #main loop, while the user does not select to exit: \"s\"\n",
    "  if option == 'p':\n",
    "    print(\"Perimeter:\",2 * math.pi * radio)\n",
    "  elif option == 'a':\n",
    "    print(\"Area:\",math.pi * radio**2)\n",
    "  elif option == 'v':\n",
    "    print(\"Volum:\",3/4 * math.pi * radio**3)\n",
    "  elif option == 'r':\n",
    "    radio = float(input(\"Introduce radius: \"))\n",
    "  elif option == 'm':\n",
    "    show_menu()\n",
    "  option = ask_option()\n",
    "\n",
    "print(\"BYE\")"
   ],
   "metadata": {
    "collapsed": false,
    "ExecuteTime": {
     "end_time": "2024-05-20T10:16:57.993868Z",
     "start_time": "2024-05-20T10:16:53.941279Z"
    }
   },
   "id": "269ed1fe12361e55"
  },
  {
   "cell_type": "code",
   "execution_count": null,
   "outputs": [],
   "source": [],
   "metadata": {
    "collapsed": false
   },
   "id": "aa8b5a2c6687cefb"
  }
 ],
 "metadata": {
  "kernelspec": {
   "display_name": "Python 3 (ipykernel)",
   "language": "python",
   "name": "python3"
  },
  "language_info": {
   "codemirror_mode": {
    "name": "ipython",
    "version": 3
   },
   "file_extension": ".py",
   "mimetype": "text/x-python",
   "name": "python",
   "nbconvert_exporter": "python",
   "pygments_lexer": "ipython3",
   "version": "3.9.6"
  }
 },
 "nbformat": 4,
 "nbformat_minor": 5
}
