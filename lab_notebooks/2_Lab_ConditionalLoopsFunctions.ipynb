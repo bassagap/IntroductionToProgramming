{
 "cells": [
  {
   "cell_type": "markdown",
   "id": "a6ecb4a71292819b",
   "metadata": {
    "collapsed": false
   },
   "source": [
    "# Practical Exercise: Guessing Game\n",
    "\n",
    "## Problem Statement:\n",
    "You are tasked with creating a Python program for a guessing game called \"Guess the Number.\" The program should generate a random number between 1 and 100, and the player must guess the number within a limited number of attempts. The program should provide feedback to the player after each guess, indicating whether the guess is too high, too low, or correct. Additionally, implement automated tests to ensure the functionality of your game.\n",
    "\n",
    "\n",
    "## Specific instructions\n",
    "1. Create a function to generate random numbers\n",
    "2. Create a function to check if the user has guessed the number or not, and returns if the result was correct, lower or higher than expected\n",
    "3. Create a function to play the game. This function should:\n",
    "    3.1 Greet the user\n",
    "    3.2 Ask about the user to pick a number\n",
    "    3.3 Set up a number of maximum attemps\n",
    "    3.4 Keep asking the user to pick numbers until maximum number of attemps has been reached or the user has guessed the number\n",
    "4. Generate test cases functions to test each function and its different cases. \n",
    "\n",
    "### BONUS: Use of Mocks\n",
    "If you dare, check how to test the function for playing the game. You will soon realise it is not that simple, and you will need to mock certain user interactions. We will talk about it in the Session number 4, but you can start trying! \n"
   ]
  },
  {
   "cell_type": "code",
   "execution_count": null,
   "id": "79820647800f404b",
   "metadata": {
    "collapsed": false
   },
   "outputs": [],
   "source": [
    "import random\n",
    "\n",
    "# Function to generate a random number between 1 and 100\n",
    "def generate_random_number():\n",
    "    # TODO: Use the random.randint function to generate a number between 1 and 100\n",
    "    pass\n",
    "\n",
    "# Function to check if the guess is correct\n",
    "def check_guess(secret_number, guess):\n",
    "    # TODO: Compare guess with secret_number and return \"Too low\", \"Too high\", or \"Correct!\"\n",
    "    pass\n",
    "\n",
    "# Main game function\n",
    "def guess_the_number():\n",
    "    # TODO: Implement the game, ask the user to guess the number and iterate accordingly (step 3)\n",
    "    pass\n",
    "\n",
    "def test_generate_random_number():\n",
    "    # Arrange\n",
    "    \n",
    "    # Act\n",
    "\n",
    "\n",
    "    # Assert\n",
    "    assert True\n",
    "\n",
    "def test_check_guess():\n",
    "    # Arrange\n",
    "\n",
    "    # Act \n",
    "    # Assert\n",
    "    assert True\n",
    "\n",
    "# Uncomment the following lines to run the tests\n",
    "# test_generate_random_number()\n",
    "# test_check_guess()\n"
   ]
  }
 ],
 "metadata": {
  "kernelspec": {
   "display_name": "Python 3 (ipykernel)",
   "language": "python",
   "name": "python3"
  },
  "language_info": {
   "codemirror_mode": {
    "name": "ipython",
    "version": 3
   },
   "file_extension": ".py",
   "mimetype": "text/x-python",
   "name": "python",
   "nbconvert_exporter": "python",
   "pygments_lexer": "ipython3",
   "version": "3.9.6"
  }
 },
 "nbformat": 4,
 "nbformat_minor": 5
}
