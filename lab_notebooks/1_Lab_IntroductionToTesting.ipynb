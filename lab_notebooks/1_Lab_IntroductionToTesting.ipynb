{
 "cells": [
  {
   "cell_type": "markdown",
   "id": "a6ecb4a71292819b",
   "metadata": {
    "collapsed": false,
    "jupyter": {
     "outputs_hidden": false
    }
   },
   "source": [
    "# Practical Exercise: Testing Calculator Functions with User Input\n",
    "\n",
    "## Problem Statement:\n",
    "You are tasked with testing a set of calculator functions developed by your team. The functions include basic arithmetic operations such as addition, subtraction, multiplication, and division. Additionally, these functions now accept user input and return output. Your goal is to ensure that these functions produce correct results when interacting with users.\n"
   ]
  },
  {
   "cell_type": "code",
   "execution_count": null,
   "id": "79820647800f404b",
   "metadata": {
    "collapsed": false,
    "jupyter": {
     "outputs_hidden": false
    }
   },
   "outputs": [],
   "source": [
    "# Defined calculator functions with user input\n",
    "def add():\n",
    "    \"\"\"Addition function with user input\"\"\"\n",
    "    x = float(input(\"Enter the first number: \"))\n",
    "    y = float(input(\"Enter the second number: \"))\n",
    "    return x + y\n",
    "\n",
    "def subtract():\n",
    "    \"\"\"Subtraction function with user input\"\"\"\n",
    "    x = float(input(\"Enter the first number: \"))\n",
    "    y = float(input(\"Enter the second number: \"))\n",
    "    return x - y\n",
    "\n",
    "def multiply():\n",
    "    \"\"\"Multiplication function with user input\"\"\"\n",
    "    x = float(input(\"Enter the first number: \"))\n",
    "    y = float(input(\"Enter the second number: \"))\n",
    "    return x * y\n",
    "\n",
    "def divide():\n",
    "    \"\"\"Division function with user input\"\"\"\n",
    "    x = float(input(\"Enter the dividend: \"))\n",
    "    y = float(input(\"Enter the divisor: \"))\n",
    "    if y == 0:\n",
    "        raise ValueError(\"Division by zero is not allowed.\")\n",
    "    return x / y"
   ]
  },
  {
   "cell_type": "markdown",
   "id": "9c69ef9affdb4609",
   "metadata": {
    "collapsed": false,
    "jp-MarkdownHeadingCollapsed": true,
    "jupyter": {
     "outputs_hidden": false
    }
   },
   "source": [
    "## Testing Requirements:\n",
    "- Test each calculator function with multiple user inputs to verify their correctness.\n",
    "- Handle edge cases and boundary conditions appropriately (e.g., division by zero).\n",
    "- Write test cases using the unittest framework to ensure consistency and maintainability.\n",
    "- Document the test scenarios, including inputs, expected outputs, and any special cases.\n",
    "- Request to specifically test the user input and output functionality of the calculator functions.\n"
   ]
  },
  {
   "cell_type": "code",
   "execution_count": 2,
   "id": "b68cba6908997dab",
   "metadata": {
    "ExecuteTime": {
     "end_time": "2024-04-10T12:41:03.493861Z",
     "start_time": "2024-04-10T12:41:03.491975Z"
    },
    "collapsed": false,
    "jupyter": {
     "outputs_hidden": false
    }
   },
   "outputs": [],
   "source": [
    "#Implement your tests here:\n",
    "# Sample Unit tests for calculator functions\n",
    "def test_add():\n",
    "    \"\"\"Test addition function.\"\"\"\n",
    "    result = add(3, 5)\n",
    "    assert result == 8, \"Addition of 3 and 5 should be 8\"\n",
    "\n",
    "#Running Test Cases:\n",
    "test_add()"
   ]
  },
  {
   "cell_type": "markdown",
   "id": "a871633172b09e36",
   "metadata": {
    "collapsed": false,
    "jupyter": {
     "outputs_hidden": false
    }
   },
   "source": [
    "## Instructions:\n",
    "- Save the provided calculator functions in a Python file or Jupyter notebook.\n",
    "- Implement test cases for each calculator function using the unittest framework.\n",
    "- Execute the test suite to validate the correctness of the calculator functions.\n",
    "- Document the test results, including any failures or errors encountered during testing.\n",
    "- Reflect on the challenges faced during testing and the strategies employed to address them.\n",
    "- Submit your test suite along with the documentation for review."
   ]
  },
  {
   "cell_type": "markdown",
   "id": "13c5aa0c4740d299",
   "metadata": {
    "collapsed": false,
    "jupyter": {
     "outputs_hidden": false
    }
   },
   "source": [
    "## Bonus Challenge:\n",
    "Implement additional calculator functions (e.g., exponentiation, square root) and write corresponding test cases to validate their functionality."
   ]
  }
 ],
 "metadata": {
  "kernelspec": {
   "display_name": "Python 3 (ipykernel)",
   "language": "python",
   "name": "python3"
  },
  "language_info": {
   "codemirror_mode": {
    "name": "ipython",
    "version": 3
   },
   "file_extension": ".py",
   "mimetype": "text/x-python",
   "name": "python",
   "nbconvert_exporter": "python",
   "pygments_lexer": "ipython3",
   "version": "3.9.6"
  }
 },
 "nbformat": 4,
 "nbformat_minor": 5
}
