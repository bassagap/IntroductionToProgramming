{
 "cells": [
  {
   "cell_type": "markdown",
   "id": "a6ecb4a71292819b",
   "metadata": {
    "collapsed": false
   },
   "source": [
    "# Practical Exercise: Testing Calculator Functions with User Input\n",
    "\n",
    "## Problem Statement:\n",
    "You are tasked with testing a set of calculator functions developed by your team. The functions include basic arithmetic operations such as addition, subtraction, multiplication, and division. Additionally, these functions now accept user input and return output. Your goal is to ensure that these functions produce correct results when interacting with users.\n"
   ]
  },
  {
   "cell_type": "code",
   "execution_count": 1,
   "id": "79820647800f404b",
   "metadata": {
    "collapsed": false,
    "ExecuteTime": {
     "end_time": "2024-05-06T10:57:49.744555Z",
     "start_time": "2024-05-06T10:57:49.720596Z"
    }
   },
   "outputs": [],
   "source": [
    "# Defined calculator functions with user input\n",
    "def add(x,y):\n",
    "    \"\"\"Addition function\"\"\"\n",
    "    return x + y\n",
    "\n",
    "def subtract(x,y):\n",
    "    \"\"\"Subtraction function \"\"\"\n",
    "    return x - y\n",
    "\n",
    "def multiply(x,y):\n",
    "    \"\"\"Multiplication function\"\"\"\n",
    "    return x * y\n",
    "\n",
    "def divide(x,y):\n",
    "    \"\"\"Division function \"\"\"\n",
    "    if y == 0:\n",
    "        raise ValueError(\"Division by zero is not allowed.\")\n",
    "    return x / y"
   ]
  },
  {
   "cell_type": "markdown",
   "id": "9c69ef9affdb4609",
   "metadata": {
    "collapsed": false,
    "jp-MarkdownHeadingCollapsed": true
   },
   "source": [
    "## Testing Requirements:\n",
    "- Test each calculator function with multiple user inputs to verify their correctness.\n",
    "- Handle edge cases and boundary conditions appropriately (e.g., division by zero).\n",
    "- Write test cases using the unittest framework to ensure consistency and maintainability.\n",
    "- Document the test scenarios, including inputs, expected outputs, and any special cases.\n",
    "- Request to specifically test the user input and output functionality of the calculator functions.\n"
   ]
  },
  {
   "cell_type": "code",
   "execution_count": 3,
   "id": "b68cba6908997dab",
   "metadata": {
    "collapsed": false,
    "ExecuteTime": {
     "end_time": "2024-05-06T10:58:35.445812Z",
     "start_time": "2024-05-06T10:58:30.358889Z"
    }
   },
   "outputs": [
    {
     "ename": "AssertionError",
     "evalue": "Addition of 3 and 5 should be 8",
     "output_type": "error",
     "traceback": [
      "\u001B[0;31m---------------------------------------------------------------------------\u001B[0m",
      "\u001B[0;31mAssertionError\u001B[0m                            Traceback (most recent call last)",
      "Cell \u001B[0;32mIn[3], line 9\u001B[0m\n\u001B[1;32m      6\u001B[0m     \u001B[38;5;28;01massert\u001B[39;00m result \u001B[38;5;241m==\u001B[39m \u001B[38;5;241m8\u001B[39m, \u001B[38;5;124m\"\u001B[39m\u001B[38;5;124mAddition of 3 and 5 should be 8\u001B[39m\u001B[38;5;124m\"\u001B[39m\n\u001B[1;32m      8\u001B[0m \u001B[38;5;66;03m#Running Test Cases:\u001B[39;00m\n\u001B[0;32m----> 9\u001B[0m \u001B[43mtest_add\u001B[49m\u001B[43m(\u001B[49m\u001B[43m)\u001B[49m\n",
      "Cell \u001B[0;32mIn[3], line 6\u001B[0m, in \u001B[0;36mtest_add\u001B[0;34m()\u001B[0m\n\u001B[1;32m      4\u001B[0m \u001B[38;5;250m\u001B[39m\u001B[38;5;124;03m\"\"\"Test addition function.\"\"\"\u001B[39;00m\n\u001B[1;32m      5\u001B[0m result \u001B[38;5;241m=\u001B[39m add()\n\u001B[0;32m----> 6\u001B[0m \u001B[38;5;28;01massert\u001B[39;00m result \u001B[38;5;241m==\u001B[39m \u001B[38;5;241m8\u001B[39m, \u001B[38;5;124m\"\u001B[39m\u001B[38;5;124mAddition of 3 and 5 should be 8\u001B[39m\u001B[38;5;124m\"\u001B[39m\n",
      "\u001B[0;31mAssertionError\u001B[0m: Addition of 3 and 5 should be 8"
     ]
    }
   ],
   "source": [
    "#Implement your tests here:\n",
    "# Sample Unit tests for calculator functions\n",
    "def test_add():\n",
    "    \"\"\"Test addition function.\"\"\"\n",
    "    result = add()\n",
    "    assert result == 8, \"Addition of 3 and 5 should be 8\"\n",
    "\n",
    "#Running Test Cases:\n",
    "test_add()"
   ]
  },
  {
   "cell_type": "markdown",
   "id": "a871633172b09e36",
   "metadata": {
    "collapsed": false
   },
   "source": [
    "## Instructions:\n",
    "- Save the provided calculator functions in a Python file or Jupyter notebook.\n",
    "- Implement test cases for each calculator function using the unittest framework.\n",
    "- Execute the test suite to validate the correctness of the calculator functions.\n",
    "- Document the test results, including any failures or errors encountered during testing.\n",
    "- Reflect on the challenges faced during testing and the strategies employed to address them.\n",
    "- Submit your test suite along with the documentation for review."
   ]
  },
  {
   "cell_type": "markdown",
   "id": "13c5aa0c4740d299",
   "metadata": {
    "collapsed": false
   },
   "source": [
    "## Bonus Challenge:\n",
    "Implement additional calculator functions (e.g., exponentiation, square root) and write corresponding test cases to validate their functionality."
   ]
  }
 ],
 "metadata": {
  "kernelspec": {
   "display_name": "Python 3 (ipykernel)",
   "language": "python",
   "name": "python3"
  },
  "language_info": {
   "codemirror_mode": {
    "name": "ipython",
    "version": 3
   },
   "file_extension": ".py",
   "mimetype": "text/x-python",
   "name": "python",
   "nbconvert_exporter": "python",
   "pygments_lexer": "ipython3",
   "version": "3.9.6"
  }
 },
 "nbformat": 4,
 "nbformat_minor": 5
}
